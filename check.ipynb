{
 "cells": [
  {
   "cell_type": "code",
   "execution_count": 2,
   "metadata": {},
   "outputs": [
    {
     "name": "stdout",
     "output_type": "stream",
     "text": [
      "'a' found in 93% of sentences\n",
      "'b' found in 28% of sentences\n",
      "'c' found in 52% of sentences\n",
      "'d' found in 49% of sentences\n",
      "'e' found in 100% of sentences\n",
      "'f' found in 43% of sentences\n",
      "'g' found in 31% of sentences\n",
      "'h' found in 17% of sentences\n",
      "'i' found in 83% of sentences\n",
      "'j' found in 44% of sentences\n",
      "'k' found in 62% of sentences\n",
      "'l' found in 66% of sentences\n",
      "'m' found in 41% of sentences\n",
      "'n' found in 66% of sentences\n",
      "'o' found in 86% of sentences\n",
      "'p' found in 51% of sentences\n",
      "'q' found in 0% of sentences\n",
      "'r' found in 91% of sentences\n",
      "'s' found in 79% of sentences\n",
      "'t' found in 89% of sentences\n",
      "'u' found in 82% of sentences\n",
      "'v' found in 0% of sentences\n",
      "'w' found in 57% of sentences\n",
      "'x' found in 0% of sentences\n",
      "'y' found in 51% of sentences\n",
      "'z' found in 62% of sentences\n",
      "'ą' found in 24% of sentences\n",
      "'ę' found in 25% of sentences\n",
      "'ó' found in 11% of sentences\n",
      "'ż' found in 19% of sentences\n",
      "'ź' found in 1% of sentences\n",
      "'ł' found in 26% of sentences\n",
      "'ć' found in 9% of sentences\n",
      "'ś' found in 14% of sentences\n",
      "The best letter is 'd' with a score of 49%\n"
     ]
    }
   ],
   "source": [
    "import csv\n",
    "import string\n",
    "\n",
    "letters = list(string.ascii_lowercase)\n",
    "letters.extend(('ą','ę','ó','ż','ź','ł','ć','ś'))\n",
    "\n",
    "# Initialize a dictionary to store the frequencies\n",
    "frequencies = dict()\n",
    "\n",
    "# Open the CSV file and count the total number of sentences\n",
    "with open('sentences3.csv', encoding=\"utf-8\") as input:\n",
    "    csv_reader = csv.reader(input, delimiter=',')\n",
    "    # Count the total number of rows\n",
    "    rows = list(csv_reader)  \n",
    "    total_rows = len(rows)  \n",
    "    \n",
    "    # Loop through all the letters\n",
    "    for letter in letters:\n",
    "        letter_count = 0\n",
    "        # Loop through the rows to count occurrences of each letter\n",
    "        for row in rows:\n",
    "            # Check if the letter is in the sentence\n",
    "            if letter in row[0].lower():\n",
    "                letter_count += 1  \n",
    "        \n",
    "        # Calculate the frequency and round it to 1 decimal place\n",
    "        frequency = letter_count / total_rows\n",
    "        frequencies[letter] = frequency\n",
    "\n",
    "best_letter = \"NWM\"\n",
    "best_score = 0.5\n",
    "for key, value in frequencies.items():\n",
    "    score = abs(value - 0.5)\n",
    "    if score < best_score:\n",
    "        best_score = score\n",
    "        best_letter = key\n",
    "    print(\"'{}' found in {:.0%} of sentences\".format(key, value))\n",
    "\n",
    "print(\"The best letter is '{}' with a score of {:.0%}\".format(best_letter, frequencies[best_letter]))\n"
   ]
  }
 ],
 "metadata": {
  "kernelspec": {
   "display_name": "Python 3",
   "language": "python",
   "name": "python3"
  },
  "language_info": {
   "codemirror_mode": {
    "name": "ipython",
    "version": 3
   },
   "file_extension": ".py",
   "mimetype": "text/x-python",
   "name": "python",
   "nbconvert_exporter": "python",
   "pygments_lexer": "ipython3",
   "version": "3.12.1"
  }
 },
 "nbformat": 4,
 "nbformat_minor": 2
}
